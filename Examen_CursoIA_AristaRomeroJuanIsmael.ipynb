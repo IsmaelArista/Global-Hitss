{
  "nbformat": 4,
  "nbformat_minor": 0,
  "metadata": {
    "colab": {
      "provenance": [],
      "authorship_tag": "ABX9TyOyyk11/D+o6PrDDo0Nab+q",
      "include_colab_link": true
    },
    "kernelspec": {
      "name": "python3",
      "display_name": "Python 3"
    },
    "language_info": {
      "name": "python"
    }
  },
  "cells": [
    {
      "cell_type": "markdown",
      "metadata": {
        "id": "view-in-github",
        "colab_type": "text"
      },
      "source": [
        "<a href=\"https://colab.research.google.com/github/IsmaelArista/Global-Hitss/blob/main/Examen_CursoIA_AristaRomeroJuanIsmael.ipynb\" target=\"_parent\"><img src=\"https://colab.research.google.com/assets/colab-badge.svg\" alt=\"Open In Colab\"/></a>"
      ]
    },
    {
      "cell_type": "code",
      "source": [
        "import pandas as pd\n",
        "import numpy as np\n",
        "import matplotlib.pyplot as plt\n",
        "import seaborn as sns\n",
        "\n",
        "from sklearn.datasets import make_classification\n",
        "\n",
        "from sklearn.model_selection import train_test_split\n",
        "from sklearn.linear_model import LogisticRegression\n",
        "from sklearn.metrics import confusion_matrix\n",
        "from sklearn.metrics import recall_score, accuracy_score\n",
        "from sklearn.pipeline import Pipeline\n",
        "from sklearn.impute import SimpleImputer\n",
        "from sklearn.preprocessing import OneHotEncoder, StandardScaler\n",
        "from sklearn.compose import ColumnTransformer\n",
        "\n",
        "from sklearn.metrics import classification_report, make_scorer\n",
        "from imblearn.metrics import geometric_mean_score, classification_report_imbalanced\n",
        "from sklearn.model_selection import  cross_validate,  RepeatedStratifiedKFold"
      ],
      "metadata": {
        "id": "yHuduKXjSxBQ"
      },
      "execution_count": 26,
      "outputs": []
    },
    {
      "cell_type": "code",
      "execution_count": 27,
      "metadata": {
        "colab": {
          "base_uri": "https://localhost:8080/"
        },
        "id": "iosb6sYVSbr-",
        "outputId": "e69b3be3-ccf5-4dff-f23b-8b57d0155a9f"
      },
      "outputs": [
        {
          "output_type": "stream",
          "name": "stderr",
          "text": [
            "/tmp/ipython-input-351687017.py:4: FutureWarning: The 'delim_whitespace' keyword in pd.read_csv is deprecated and will be removed in a future version. Use ``sep='\\s+'`` instead\n",
            "  data = pd.read_csv(url, delim_whitespace=True, header=None)\n"
          ]
        },
        {
          "output_type": "stream",
          "name": "stdout",
          "text": [
            "Dimensiones del dataset: (1000, 21)\n",
            "\n",
            "Primeras 5 filas:\n",
            "  status  duration credit_history purpose  amount savings employment_duration  \\\n",
            "0    A11         6            A34     A43    1169     A65                 A75   \n",
            "1    A12        48            A32     A43    5951     A61                 A73   \n",
            "2    A14        12            A34     A46    2096     A61                 A74   \n",
            "3    A11        42            A32     A42    7882     A61                 A74   \n",
            "4    A11        24            A33     A40    4870     A61                 A73   \n",
            "\n",
            "   installment_rate personal_status_sex other_debtors  ...  property age  \\\n",
            "0                 4                 A93          A101  ...      A121  67   \n",
            "1                 2                 A92          A101  ...      A121  22   \n",
            "2                 2                 A93          A101  ...      A121  49   \n",
            "3                 2                 A93          A103  ...      A122  45   \n",
            "4                 3                 A93          A101  ...      A124  53   \n",
            "\n",
            "   other_installment_plans housing number_credits   job people_liable  \\\n",
            "0                     A143    A152              2  A173             1   \n",
            "1                     A143    A152              1  A173             1   \n",
            "2                     A143    A152              1  A172             2   \n",
            "3                     A143    A153              1  A173             2   \n",
            "4                     A143    A153              2  A173             2   \n",
            "\n",
            "   telephone foreign_worker credit_risk  \n",
            "0       A192           A201           1  \n",
            "1       A191           A201           2  \n",
            "2       A191           A201           1  \n",
            "3       A191           A201           1  \n",
            "4       A191           A201           2  \n",
            "\n",
            "[5 rows x 21 columns]\n",
            "\n",
            "Información general del dataset:\n",
            "<class 'pandas.core.frame.DataFrame'>\n",
            "RangeIndex: 1000 entries, 0 to 999\n",
            "Data columns (total 21 columns):\n",
            " #   Column                   Non-Null Count  Dtype \n",
            "---  ------                   --------------  ----- \n",
            " 0   status                   1000 non-null   object\n",
            " 1   duration                 1000 non-null   int64 \n",
            " 2   credit_history           1000 non-null   object\n",
            " 3   purpose                  1000 non-null   object\n",
            " 4   amount                   1000 non-null   int64 \n",
            " 5   savings                  1000 non-null   object\n",
            " 6   employment_duration      1000 non-null   object\n",
            " 7   installment_rate         1000 non-null   int64 \n",
            " 8   personal_status_sex      1000 non-null   object\n",
            " 9   other_debtors            1000 non-null   object\n",
            " 10  present_residence        1000 non-null   int64 \n",
            " 11  property                 1000 non-null   object\n",
            " 12  age                      1000 non-null   int64 \n",
            " 13  other_installment_plans  1000 non-null   object\n",
            " 14  housing                  1000 non-null   object\n",
            " 15  number_credits           1000 non-null   int64 \n",
            " 16  job                      1000 non-null   object\n",
            " 17  people_liable            1000 non-null   int64 \n",
            " 18  telephone                1000 non-null   object\n",
            " 19  foreign_worker           1000 non-null   object\n",
            " 20  credit_risk              1000 non-null   int64 \n",
            "dtypes: int64(8), object(13)\n",
            "memory usage: 164.2+ KB\n",
            "None\n",
            "\n",
            "Conteo de valores nulos por columna:\n",
            "status                     0\n",
            "duration                   0\n",
            "credit_history             0\n",
            "purpose                    0\n",
            "amount                     0\n",
            "savings                    0\n",
            "employment_duration        0\n",
            "installment_rate           0\n",
            "personal_status_sex        0\n",
            "other_debtors              0\n",
            "present_residence          0\n",
            "property                   0\n",
            "age                        0\n",
            "other_installment_plans    0\n",
            "housing                    0\n",
            "number_credits             0\n",
            "job                        0\n",
            "people_liable              0\n",
            "telephone                  0\n",
            "foreign_worker             0\n",
            "credit_risk                0\n",
            "dtype: int64\n",
            "\n",
            "Distribución de la variable objetivo credit_risk:\n",
            "credit_risk\n",
            "1    700\n",
            "2    300\n",
            "Name: count, dtype: int64\n",
            "\n",
            "Proporciones de la variable objetivo credit_risk:\n",
            "credit_risk\n",
            "1    0.7\n",
            "2    0.3\n",
            "Name: proportion, dtype: float64\n"
          ]
        }
      ],
      "source": [
        "url = \"https://archive.ics.uci.edu/ml/machine-learning-databases/statlog/german/german.data\"\n",
        "\n",
        "# Leer el dataset\n",
        "data = pd.read_csv(url, delim_whitespace=True, header=None)\n",
        "data.columns = [\n",
        "    \"status\", \"duration\", \"credit_history\", \"purpose\", \"amount\",\n",
        "    \"savings\", \"employment_duration\", \"installment_rate\", \"personal_status_sex\",\n",
        "    \"other_debtors\", \"present_residence\", \"property\", \"age\",\n",
        "    \"other_installment_plans\", \"housing\", \"number_credits\", \"job\",\n",
        "    \"people_liable\", \"telephone\", \"foreign_worker\", \"credit_risk\"\n",
        "]\n",
        "\n",
        "print(\"Dimensiones del dataset:\", data.shape)\n",
        "print(\"\\nPrimeras 5 filas:\")\n",
        "print(data.head())\n",
        "\n",
        "print(\"\\nInformación general del dataset:\")\n",
        "print(data.info())\n",
        "\n",
        "print(\"\\nConteo de valores nulos por columna:\")\n",
        "print(data.isnull().sum())\n",
        "\n",
        "print(\"\\nDistribución de la variable objetivo credit_risk:\")\n",
        "print(data['credit_risk'].value_counts())\n",
        "\n",
        "print(\"\\nProporciones de la variable objetivo credit_risk:\")\n",
        "print(data['credit_risk'].value_counts(normalize=True))\n"
      ]
    },
    {
      "cell_type": "code",
      "source": [
        "# Separar fX y Y\n",
        "X = data.drop(columns=['credit_risk'])\n",
        "y = data['credit_risk']\n",
        "\n",
        "# Partición 85%/15%\n",
        "X_train, X_test, y_train, y_test = train_test_split(\n",
        "    X, y,\n",
        "    test_size=0.15,\n",
        "    stratify=y,\n",
        "    random_state=42\n",
        ")\n",
        "\n",
        "X_train = X_train.reset_index(drop=True)\n",
        "X_test  = X_test.reset_index(drop=True)\n",
        "y_train = y_train.reset_index(drop=True)\n",
        "y_test  = y_test.reset_index(drop=True)\n",
        "\n",
        "print(\"Tamaños:\")\n",
        "print(\"  X_train:\", X_train.shape, \"  y_train:\", y_train.shape)\n",
        "print(\"  X_test: \", X_test.shape,  \"  y_test: \", y_test.shape)\n",
        "\n",
        "print(\"\\nProporción de clases en todo el dataset:\")\n",
        "print(y.value_counts(normalize=True))\n"
      ],
      "metadata": {
        "colab": {
          "base_uri": "https://localhost:8080/"
        },
        "id": "0CdQrY1-bH_t",
        "outputId": "e21c4372-3d77-4e6e-8fdc-5bd8380b5c24"
      },
      "execution_count": 28,
      "outputs": [
        {
          "output_type": "stream",
          "name": "stdout",
          "text": [
            "Tamaños:\n",
            "  X_train: (850, 20)   y_train: (850,)\n",
            "  X_test:  (150, 20)   y_test:  (150,)\n",
            "\n",
            "Proporción de clases en todo el dataset:\n",
            "credit_risk\n",
            "1    0.7\n",
            "2    0.3\n",
            "Name: proportion, dtype: float64\n"
          ]
        }
      ]
    },
    {
      "cell_type": "markdown",
      "source": [
        "# Pipeline"
      ],
      "metadata": {
        "id": "A0HIGDoxcMuC"
      }
    },
    {
      "cell_type": "code",
      "source": [
        "# Cuantitativas\n",
        "quantitative = ['duration', 'amount', 'age']\n",
        "\n",
        "# Ordinales\n",
        "ordinal = ['installment_rate', 'present_residence', 'number_credits', 'people_liable']\n",
        "\n",
        "# Categóricas\n",
        "categorical = [\n",
        "    'status', 'credit_history', 'purpose', 'savings',\n",
        "    'employment_duration', 'personal_status_sex', 'other_debtors',\n",
        "    'property', 'other_installment_plans', 'housing', 'job',\n",
        "    'telephone', 'foreign_worker'\n",
        "]\n",
        "\n",
        "\n",
        "\n",
        "# Cuantitativas\n",
        "quantitative_pipe = Pipeline(steps=[\n",
        "    ('imputer', SimpleImputer(strategy='median')),\n",
        "    ('scaler', StandardScaler())\n",
        "])\n",
        "\n",
        "# Ordinales:\n",
        "ordinal_pipe = Pipeline(steps=[\n",
        "    ('imputer', SimpleImputer(strategy='median'))\n",
        "])\n",
        "\n",
        "# Categóricas con binarias\n",
        "categorical_pipe = Pipeline(steps=[\n",
        "    ('imputer', SimpleImputer(strategy='most_frequent')),\n",
        "    ('onehot', OneHotEncoder(handle_unknown='ignore', sparse_output=False))\n",
        "])\n",
        "\n",
        "# Se une todo\n",
        "preprocess = ColumnTransformer(\n",
        "    transformers=[\n",
        "        ('num', quantitative_pipe, quantitative),\n",
        "        ('ord', ordinal_pipe, ordinal),\n",
        "        ('cat', categorical_pipe, categorical)\n",
        "    ],\n",
        ")\n",
        "\n",
        "print(\"Cuantitativas escaladas:\", quantitative)\n",
        "print(\"Ordinales (sin escalar):\", ordinal)\n",
        "print(\"Categóricas (one-hot):\", categorical)\n"
      ],
      "metadata": {
        "colab": {
          "base_uri": "https://localhost:8080/"
        },
        "id": "pw2BxPM_cIjV",
        "outputId": "286ae2d0-fc6b-4f8f-a1f3-f949aea3b1fb"
      },
      "execution_count": 30,
      "outputs": [
        {
          "output_type": "stream",
          "name": "stdout",
          "text": [
            "Cuantitativas escaladas: ['duration', 'amount', 'age']\n",
            "Ordinales (sin escalar): ['installment_rate', 'present_residence', 'number_credits', 'people_liable']\n",
            "Categóricas (one-hot): ['status', 'credit_history', 'purpose', 'savings', 'employment_duration', 'personal_status_sex', 'other_debtors', 'property', 'other_installment_plans', 'housing', 'job', 'telephone', 'foreign_worker']\n"
          ]
        }
      ]
    },
    {
      "cell_type": "markdown",
      "source": [
        "Justificación:\n",
        "Las variables numéricas usan la mediana porque es robusta a valores extremos.\n",
        "\n",
        "Las variables categóricas y binarias usan el valor más frecuente porque no tiene sentido calcular medias en valores no numéricos.\n",
        "\n",
        "Las ordinales también usan mediana para mantener el orden pero sin escalar aún."
      ],
      "metadata": {
        "id": "No7owqQfe6QA"
      }
    },
    {
      "cell_type": "code",
      "source": [
        "def confusion_counts(y_true, y_pred, pos_label=1):\n",
        "\n",
        "    # Aseguramos el orden [pos, neg] para extraer bien TP/TN/FP/FN\n",
        "    labels = [pos_label, 2 if pos_label == 1 else 1]\n",
        "    cm = confusion_matrix(y_true, y_pred, labels=labels)\n",
        "\n",
        "    TP = cm[0, 0]\n",
        "    FN = cm[0, 1]\n",
        "    FP = cm[1, 0]\n",
        "    TN = cm[1, 1]\n",
        "    return TP, TN, FP, FN\n",
        "\n",
        "def accuracy_score_manual(y_true, y_pred, pos_label=1):\n",
        "    TP, TN, FP, FN = confusion_counts(y_true, y_pred, pos_label)\n",
        "    total = TP + TN + FP + FN\n",
        "    return (TP + TN) / total if total > 0 else 0.0\n",
        "\n",
        "def precision_score_manual(y_true, y_pred, pos_label=1):\n",
        "    TP, TN, FP, FN = confusion_counts(y_true, y_pred, pos_label)\n",
        "    denom = TP + FP\n",
        "    return TP / denom if denom > 0 else 0.0\n",
        "\n",
        "def recall_score_manual(y_true, y_pred, pos_label=1):\n",
        "    TP, TN, FP, FN = confusion_counts(y_true, y_pred, pos_label)\n",
        "    denom = TP + FN\n",
        "    return TP / denom if denom > 0 else 0.0\n",
        "\n",
        "def f1_score_manual(y_true, y_pred, pos_label=1):\n",
        "    prec = precision_score_manual(y_true, y_pred, pos_label)\n",
        "    rec  = recall_score_manual(y_true, y_pred, pos_label)\n",
        "    denom = prec + rec\n",
        "    return 2 * prec * rec / denom if denom > 0 else 0.0\n",
        "\n",
        "def gmean_score_manual(y_true, y_pred, pos_label=1):\n",
        "    \"\"\"\n",
        "    G-Mean = sqrt(Sensibilidad * Especificidad)\n",
        "    Sensibilidad = Recall positivo\n",
        "    Especificidad = TN / (TN + FP)\n",
        "    \"\"\"\n",
        "    TP, TN, FP, FN = confusion_counts(y_true, y_pred, pos_label)\n",
        "    sens = TP / (TP + FN) if (TP + FN) > 0 else 0.0\n",
        "    espec = TN / (TN + FP) if (TN + FP) > 0 else 0.0\n",
        "    return np.sqrt(sens * espec)\n",
        "\n",
        "def compute_all_metrics(y_true, y_pred, pos_label=1):\n",
        "    \"\"\"Devuelve un dict con todas las métricas.\"\"\"\n",
        "    return {\n",
        "        \"accuracy\": accuracy_score_manual(y_true, y_pred, pos_label),\n",
        "        \"precision\": precision_score_manual(y_true, y_pred, pos_label),\n",
        "        \"recall\": recall_score_manual(y_true, y_pred, pos_label),\n",
        "        \"f1\": f1_score_manual(y_true, y_pred, pos_label),\n",
        "        \"gmean\": gmean_score_manual(y_true, y_pred, pos_label),\n",
        "    }\n",
        "\n",
        "print(\"Funciones de métricas listas (accuracy, precision, recall, f1, gmean).\")\n"
      ],
      "metadata": {
        "colab": {
          "base_uri": "https://localhost:8080/"
        },
        "id": "jTfJDsAFfD4-",
        "outputId": "490df44c-9a2b-4a0b-f294-4b656b887c57"
      },
      "execution_count": 31,
      "outputs": [
        {
          "output_type": "stream",
          "name": "stdout",
          "text": [
            "Funciones de métricas listas (accuracy, precision, recall, f1, gmean).\n"
          ]
        }
      ]
    },
    {
      "cell_type": "code",
      "source": [
        "log_reg = LogisticRegression()\n",
        "\n",
        "# Pipeline con modelo\n",
        "pipe = Pipeline(steps=[\n",
        "    (\"prep\", preprocess),\n",
        "    (\"clf\", log_reg)\n",
        "])\n",
        "\n",
        "# Val. cruzada estratificada: 5 particiones, 3 repeticiones\n",
        "cv = RepeatedStratifiedKFold(n_splits=5, n_repeats=3, random_state=42)\n",
        "\n",
        "resultados = []          # guardamos métricas de cada fold\n",
        "recalls_train = []       # boxplot train\n",
        "recalls_val = []         # boxplot validación\n",
        "\n",
        "fold_id = 1\n",
        "for train_idx, val_idx in cv.split(X_train, y_train):\n",
        "    X_tr, X_val = X_train.iloc[train_idx], X_train.iloc[val_idx]\n",
        "    y_tr, y_val = y_train.iloc[train_idx], y_train.iloc[val_idx]\n",
        "\n",
        "    # Entrenar en el fold\n",
        "    pipe.fit(X_tr, y_tr)\n",
        "\n",
        "    # Predicciones\n",
        "    y_tr_pred = pipe.predict(X_tr)\n",
        "    y_val_pred = pipe.predict(X_val)\n",
        "\n",
        "    # Métricas (clase positiva = 1)\n",
        "    m_tr  = compute_all_metrics(y_tr,  y_tr_pred,  pos_label=1)\n",
        "    m_val = compute_all_metrics(y_val, y_val_pred, pos_label=1)\n",
        "\n",
        "    # Guardar para resumen\n",
        "    resultados.append({\n",
        "        \"fold\": fold_id,\n",
        "        \"acc_train\": m_tr[\"accuracy\"], \"prec_train\": m_tr[\"precision\"],\n",
        "        \"rec_train\": m_tr[\"recall\"],   \"f1_train\":   m_tr[\"f1\"], \"gmean_train\": m_tr[\"gmean\"],\n",
        "        \"acc_val\":  m_val[\"accuracy\"], \"prec_val\":  m_val[\"precision\"],\n",
        "        \"rec_val\":  m_val[\"recall\"],   \"f1_val\":    m_val[\"f1\"], \"gmean_val\":  m_val[\"gmean\"],\n",
        "    })\n",
        "    recalls_train.append(m_tr[\"recall\"])\n",
        "    recalls_val.append(m_val[\"recall\"])\n",
        "\n",
        "    fold_id += 1\n",
        "\n",
        "# DataFrame con todos los folds\n",
        "df_res = pd.DataFrame(resultados)\n",
        "\n",
        "print(\"\\nResumen por fold (primeras filas):\")\n",
        "print(df_res.head())\n",
        "\n",
        "# Promedios y desviaciones\n",
        "promedios = df_res.mean(numeric_only=True)\n",
        "desvios   = df_res.std(numeric_only=True)\n",
        "\n",
        "print(\"\\nPromedios (validación):\")\n",
        "print(promedios[[\"acc_val\",\"prec_val\",\"rec_val\",\"f1_val\",\"gmean_val\"]])\n",
        "\n",
        "print(\"\\nDesviaciones estándar (validación):\")\n",
        "print(desvios[[\"acc_val\",\"prec_val\",\"rec_val\",\"f1_val\",\"gmean_val\"]])\n",
        "\n",
        "# Guardamos los recalls\n",
        "recall_train_folds = np.array(recalls_train)\n",
        "recall_val_folds   = np.array(recalls_val)\n",
        "\n",
        "print(\"\\nListos los vectores para boxplot de Recall (train y validación).\")\n",
        "print(\"Tamaño recall_train_folds:\", recall_train_folds.shape)\n",
        "print(\"Tamaño recall_val_folds:  \", recall_val_folds.shape)\n"
      ],
      "metadata": {
        "colab": {
          "base_uri": "https://localhost:8080/"
        },
        "id": "FMOgxBj4fpn0",
        "outputId": "958f606e-b3e7-4417-b065-ef78be10c4fb"
      },
      "execution_count": 33,
      "outputs": [
        {
          "output_type": "stream",
          "name": "stdout",
          "text": [
            "\n",
            "Resumen por fold (primeras filas):\n",
            "   fold  acc_train  prec_train  rec_train  f1_train  gmean_train   acc_val  \\\n",
            "0     1   0.783824    0.812144   0.899160  0.853440     0.680296  0.776471   \n",
            "1     2   0.792647    0.815443   0.909664  0.859980     0.687509  0.752941   \n",
            "2     3   0.794118    0.819392   0.905462  0.860279     0.695558  0.717647   \n",
            "3     4   0.801471    0.829787   0.901261  0.864048     0.715878  0.717647   \n",
            "4     5   0.780882    0.809074   0.899160  0.851741     0.673786  0.752941   \n",
            "\n",
            "   prec_val   rec_val    f1_val  gmean_val  \n",
            "0  0.779310  0.949580  0.856061   0.594782  \n",
            "1  0.793893  0.873950  0.832000   0.641304  \n",
            "2  0.808696  0.781513  0.794872   0.666625  \n",
            "3  0.770992  0.848739  0.808000   0.591169  \n",
            "4  0.808000  0.848739  0.827869   0.670323  \n",
            "\n",
            "Promedios (validación):\n",
            "acc_val      0.745490\n",
            "prec_val     0.791669\n",
            "rec_val      0.864986\n",
            "f1_val       0.826016\n",
            "gmean_val    0.632616\n",
            "dtype: float64\n",
            "\n",
            "Desviaciones estándar (validación):\n",
            "acc_val      0.023368\n",
            "prec_val     0.018791\n",
            "rec_val      0.041469\n",
            "f1_val       0.018428\n",
            "gmean_val    0.043050\n",
            "dtype: float64\n",
            "\n",
            "Listos los vectores para boxplot de Recall (train y validación).\n",
            "Tamaño recall_train_folds: (15,)\n",
            "Tamaño recall_val_folds:   (15,)\n"
          ]
        }
      ]
    },
    {
      "cell_type": "markdown",
      "source": [
        "Perdón, entre a la clase 11:35 :("
      ],
      "metadata": {
        "id": "hW-IzILkgA8j"
      }
    }
  ]
}